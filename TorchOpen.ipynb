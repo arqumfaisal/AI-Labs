{
 "cells": [
  {
   "cell_type": "code",
   "execution_count": 1,
   "id": "bbeebece-77cb-4a8b-82ba-bcfdb7471b97",
   "metadata": {},
   "outputs": [
    {
     "name": "stdout",
     "output_type": "stream",
     "text": [
      "Epoch 1/10\n"
     ]
    },
    {
     "name": "stderr",
     "output_type": "stream",
     "text": [
      "Training: 100%|████████████████████████████████████████████████████████████████████████| 91/91 [00:53<00:00,  1.69it/s]\n"
     ]
    },
    {
     "name": "stdout",
     "output_type": "stream",
     "text": [
      "Train Loss: 0.7445, Train Accuracy: 0.7044\n",
      "Validation Loss: 5.5164, Validation Accuracy: 0.2784\n",
      "Epoch 2/10\n"
     ]
    },
    {
     "name": "stderr",
     "output_type": "stream",
     "text": [
      "Training: 100%|████████████████████████████████████████████████████████████████████████| 91/91 [00:47<00:00,  1.90it/s]\n"
     ]
    },
    {
     "name": "stdout",
     "output_type": "stream",
     "text": [
      "Train Loss: 0.4817, Train Accuracy: 0.8157\n",
      "Validation Loss: 0.4189, Validation Accuracy: 0.8421\n",
      "Epoch 3/10\n"
     ]
    },
    {
     "name": "stderr",
     "output_type": "stream",
     "text": [
      "Training: 100%|████████████████████████████████████████████████████████████████████████| 91/91 [00:46<00:00,  1.97it/s]\n"
     ]
    },
    {
     "name": "stdout",
     "output_type": "stream",
     "text": [
      "Train Loss: 0.3794, Train Accuracy: 0.8642\n",
      "Validation Loss: 0.4779, Validation Accuracy: 0.8102\n",
      "Epoch 4/10\n"
     ]
    },
    {
     "name": "stderr",
     "output_type": "stream",
     "text": [
      "Training: 100%|████████████████████████████████████████████████████████████████████████| 91/91 [00:46<00:00,  1.95it/s]\n"
     ]
    },
    {
     "name": "stdout",
     "output_type": "stream",
     "text": [
      "Train Loss: 0.3820, Train Accuracy: 0.8631\n",
      "Validation Loss: 0.6645, Validation Accuracy: 0.7576\n",
      "Epoch 5/10\n"
     ]
    },
    {
     "name": "stderr",
     "output_type": "stream",
     "text": [
      "Training: 100%|████████████████████████████████████████████████████████████████████████| 91/91 [00:47<00:00,  1.93it/s]"
     ]
    },
    {
     "name": "stdout",
     "output_type": "stream",
     "text": [
      "Train Loss: 0.3171, Train Accuracy: 0.8874\n"
     ]
    },
    {
     "name": "stderr",
     "output_type": "stream",
     "text": [
      "\n"
     ]
    },
    {
     "name": "stdout",
     "output_type": "stream",
     "text": [
      "Validation Loss: 0.5367, Validation Accuracy: 0.8158\n",
      "Epoch 6/10\n"
     ]
    },
    {
     "name": "stderr",
     "output_type": "stream",
     "text": [
      "Training: 100%|████████████████████████████████████████████████████████████████████████| 91/91 [00:46<00:00,  1.95it/s]\n"
     ]
    },
    {
     "name": "stdout",
     "output_type": "stream",
     "text": [
      "Train Loss: 0.2956, Train Accuracy: 0.8967\n",
      "Validation Loss: 0.2579, Validation Accuracy: 0.9017\n",
      "Epoch 7/10\n"
     ]
    },
    {
     "name": "stderr",
     "output_type": "stream",
     "text": [
      "Training: 100%|████████████████████████████████████████████████████████████████████████| 91/91 [00:46<00:00,  1.95it/s]\n"
     ]
    },
    {
     "name": "stdout",
     "output_type": "stream",
     "text": [
      "Train Loss: 0.2226, Train Accuracy: 0.9220\n",
      "Validation Loss: 0.2272, Validation Accuracy: 0.9058\n",
      "Epoch 8/10\n"
     ]
    },
    {
     "name": "stderr",
     "output_type": "stream",
     "text": [
      "Training: 100%|████████████████████████████████████████████████████████████████████████| 91/91 [00:47<00:00,  1.91it/s]\n"
     ]
    },
    {
     "name": "stdout",
     "output_type": "stream",
     "text": [
      "Train Loss: 0.2605, Train Accuracy: 0.9051\n",
      "Validation Loss: 7.2324, Validation Accuracy: 0.4003\n",
      "Epoch 9/10\n"
     ]
    },
    {
     "name": "stderr",
     "output_type": "stream",
     "text": [
      "Training: 100%|████████████████████████████████████████████████████████████████████████| 91/91 [00:47<00:00,  1.91it/s]\n"
     ]
    },
    {
     "name": "stdout",
     "output_type": "stream",
     "text": [
      "Train Loss: 0.2169, Train Accuracy: 0.9269\n",
      "Validation Loss: 0.4019, Validation Accuracy: 0.8740\n",
      "Epoch 10/10\n"
     ]
    },
    {
     "name": "stderr",
     "output_type": "stream",
     "text": [
      "Training: 100%|████████████████████████████████████████████████████████████████████████| 91/91 [00:49<00:00,  1.85it/s]\n"
     ]
    },
    {
     "name": "stdout",
     "output_type": "stream",
     "text": [
      "Train Loss: 0.2072, Train Accuracy: 0.9290\n",
      "Validation Loss: 0.7152, Validation Accuracy: 0.8352\n"
     ]
    },
    {
     "name": "stderr",
     "output_type": "stream",
     "text": [
      "Evaluating: 100%|██████████████████████████████████████████████████████████████████████| 91/91 [00:37<00:00,  2.41it/s]\n",
      "Evaluating: 100%|██████████████████████████████████████████████████████████████████████| 23/23 [00:25<00:00,  1.10s/it]\n",
      "Evaluating: 100%|██████████████████████████████████████████████████████████████████████| 32/32 [00:26<00:00,  1.22it/s]\n"
     ]
    },
    {
     "name": "stdout",
     "output_type": "stream",
     "text": [
      "Model and plots saved in Arqumlatestoutput\n"
     ]
    }
   ],
   "source": [
    "import torch\n",
    "import torch.nn as nn\n",
    "import torch.optim as optim\n",
    "from torch.utils.data import DataLoader, random_split\n",
    "from torchvision import datasets, transforms, models\n",
    "from sklearn.metrics import confusion_matrix, classification_report\n",
    "import seaborn as sns\n",
    "import matplotlib.pyplot as plt\n",
    "from tqdm import tqdm\n",
    "import os\n",
    "\n",
    "def train_model(model, criterion, optimizer, train_loader, val_loader, epochs=10):\n",
    "    train_losses, train_accuracies = [], []\n",
    "    val_losses, val_accuracies = [], []\n",
    "\n",
    "    for epoch in range(epochs):\n",
    "        model.train()\n",
    "        running_loss, correct = 0.0, 0\n",
    "\n",
    "        print(f\"Epoch {epoch + 1}/{epochs}\")\n",
    "        for inputs, labels in tqdm(train_loader, desc=\"Training\"):\n",
    "            inputs, labels = inputs.to(device), labels.to(device)\n",
    "\n",
    "            optimizer.zero_grad()\n",
    "            outputs = model(inputs)\n",
    "            loss = criterion(outputs, labels)\n",
    "            loss.backward()\n",
    "            optimizer.step()\n",
    "\n",
    "            running_loss += loss.item() * inputs.size(0)\n",
    "            preds = torch.argmax(outputs, dim=1)\n",
    "            correct += (preds == labels).sum().item()\n",
    "\n",
    "        train_loss = running_loss / len(train_loader.dataset)\n",
    "        train_accuracy = correct / len(train_loader.dataset)\n",
    "        train_losses.append(train_loss)\n",
    "        train_accuracies.append(train_accuracy)\n",
    "        print(f\"Train Loss: {train_loss:.4f}, Train Accuracy: {train_accuracy:.4f}\")\n",
    "\n",
    "        val_loss, val_accuracy = validate_model(model, criterion, val_loader)\n",
    "        val_losses.append(val_loss)\n",
    "        val_accuracies.append(val_accuracy)\n",
    "        print(f\"Validation Loss: {val_loss:.4f}, Validation Accuracy: {val_accuracy:.4f}\")\n",
    "\n",
    "    metrics = {\n",
    "        \"train_losses\": train_losses,\n",
    "        \"train_accuracies\": train_accuracies,\n",
    "        \"val_losses\": val_losses,\n",
    "        \"val_accuracies\": val_accuracies\n",
    "    }\n",
    "    return model, metrics\n",
    "\n",
    "def validate_model(model, criterion, loader):\n",
    "    model.eval()\n",
    "    running_loss, correct = 0.0, 0\n",
    "\n",
    "    with torch.no_grad():\n",
    "        for inputs, labels in loader:\n",
    "            inputs, labels = inputs.to(device), labels.to(device)\n",
    "            outputs = model(inputs)\n",
    "            loss = criterion(outputs, labels)\n",
    "            running_loss += loss.item() * inputs.size(0)\n",
    "            preds = torch.argmax(outputs, dim=1)\n",
    "            correct += (preds == labels).sum().item()\n",
    "\n",
    "    val_loss = running_loss / len(loader.dataset)\n",
    "    val_accuracy = correct / len(loader.dataset)\n",
    "    return val_loss, val_accuracy\n",
    "\n",
    "def evaluate_model(model, loader, output_matrix_path):\n",
    "    model.eval()\n",
    "    all_preds, all_labels = [], []\n",
    "\n",
    "    with torch.no_grad():\n",
    "        for inputs, labels in tqdm(loader, desc=\"Evaluating\"):\n",
    "            inputs, labels = inputs.to(device), labels.to(device)\n",
    "            outputs = model(inputs)\n",
    "            preds = torch.argmax(outputs, dim=1)\n",
    "            all_preds.extend(preds.cpu().numpy())\n",
    "            all_labels.extend(labels.cpu().numpy())\n",
    "\n",
    "    cm = confusion_matrix(all_labels, all_preds)\n",
    "    classes = loader.dataset.dataset.classes if isinstance(loader.dataset, torch.utils.data.Subset) else loader.dataset.classes\n",
    "\n",
    "    plt.figure(figsize=(10, 8))\n",
    "    sns.heatmap(cm, annot=True, fmt=\"d\", cmap=\"Blues\", xticklabels=classes, yticklabels=classes)\n",
    "    plt.xlabel(\"Predicted\")\n",
    "    plt.ylabel(\"True\")\n",
    "    plt.title(\"Confusion Matrix\")\n",
    "    plt.savefig(output_matrix_path)\n",
    "    plt.close()\n",
    "\n",
    "    return all_preds, all_labels, cm\n",
    "\n",
    "def plot_metrics(metrics, output_dir):\n",
    "    epochs = range(1, len(metrics[\"train_losses\"]) + 1)\n",
    "\n",
    "    # Plot Loss\n",
    "    plt.figure(figsize=(10, 5))\n",
    "    plt.plot(epochs, metrics[\"train_losses\"], label=\"Training Loss\")\n",
    "    plt.plot(epochs, metrics[\"val_losses\"], label=\"Validation Loss\")\n",
    "    plt.title(\"Loss per Epoch\")\n",
    "    plt.xlabel(\"Epochs\")\n",
    "    plt.ylabel(\"Loss\")\n",
    "    plt.legend()\n",
    "    plt.grid()\n",
    "    plt.savefig(os.path.join(output_dir, \"loss_plot.png\"))\n",
    "    plt.close()\n",
    "\n",
    "    # Plot Accuracy\n",
    "    plt.figure(figsize=(10, 5))\n",
    "    plt.plot(epochs, metrics[\"train_accuracies\"], label=\"Training Accuracy\")\n",
    "    plt.plot(epochs, metrics[\"val_accuracies\"], label=\"Validation Accuracy\")\n",
    "    plt.title(\"Accuracy per Epoch\")\n",
    "    plt.xlabel(\"Epochs\")\n",
    "    plt.ylabel(\"Accuracy\")\n",
    "    plt.legend()\n",
    "    plt.grid()\n",
    "    plt.savefig(os.path.join(output_dir, \"accuracy_plot.png\"))\n",
    "    plt.close()\n",
    "\n",
    "if __name__ == '__main__':\n",
    "    output_dir = \"Arqumlatestoutput\"\n",
    "    os.makedirs(output_dir, exist_ok=True)\n",
    "\n",
    "    model_save_path = os.path.join(output_dir, \"cnn_model.pth\")\n",
    "    train_conf_matrix_path = os.path.join(output_dir, \"train_confusion_matrix.png\")\n",
    "    val_conf_matrix_path = os.path.join(output_dir, \"val_confusion_matrix.png\")\n",
    "    test_conf_matrix_path = os.path.join(output_dir, \"test_confusion_matrix.png\")\n",
    "    classification_report_path = os.path.join(output_dir, \"classification_report.txt\")\n",
    "\n",
    "    train_transform = transforms.Compose([\n",
    "        transforms.RandomRotation(30),\n",
    "        transforms.RandomHorizontalFlip(),\n",
    "        transforms.RandomResizedCrop(224),\n",
    "        transforms.ColorJitter(brightness=0.2, contrast=0.2),\n",
    "        transforms.GaussianBlur(3),\n",
    "        transforms.ToTensor(),\n",
    "        transforms.Normalize([0.5], [0.5])\n",
    "    ])\n",
    "\n",
    "    test_transform = transforms.Compose([\n",
    "        transforms.Resize(256),\n",
    "        transforms.CenterCrop(224),\n",
    "        transforms.ToTensor(),\n",
    "        transforms.Normalize([0.5], [0.5])\n",
    "    ])\n",
    "\n",
    "    train_dataset = datasets.ImageFolder(root=r'C:\\Users\\Ibad\\Downloads\\AI Open\\AI Open\\CT-Scan\\CT-Scan Train', transform=train_transform)\n",
    "    test_dataset = datasets.ImageFolder(root=r'C:\\Users\\Ibad\\Downloads\\AI Open\\AI Open\\CT-Scan\\CT-Scan Test', transform=test_transform)\n",
    "\n",
    "    validation_split = 0.2\n",
    "    train_size = int((1 - validation_split) * len(train_dataset))\n",
    "    val_size = len(train_dataset) - train_size\n",
    "    train_dataset, val_dataset = random_split(train_dataset, [train_size, val_size])\n",
    "\n",
    "    train_loader = DataLoader(train_dataset, batch_size=32, shuffle=True, num_workers=4, pin_memory=True)\n",
    "    val_loader = DataLoader(val_dataset, batch_size=32, shuffle=False, num_workers=4, pin_memory=True)\n",
    "    test_loader = DataLoader(test_dataset, batch_size=32, shuffle=False, num_workers=4, pin_memory=True)\n",
    "\n",
    "    model = models.resnet50(weights=\"IMAGENET1K_V1\")\n",
    "    model.fc = nn.Sequential(\n",
    "        nn.Linear(model.fc.in_features, 512),\n",
    "        nn.ReLU(),\n",
    "        nn.Dropout(0.3),\n",
    "        nn.Linear(512, len(train_dataset.dataset.classes))\n",
    "    )\n",
    "\n",
    "    device = torch.device('cuda' if torch.cuda.is_available() else 'cpu')\n",
    "    model = model.to(device)\n",
    "\n",
    "    criterion = nn.CrossEntropyLoss()\n",
    "    optimizer = optim.Adam(model.parameters(), lr=0.001)\n",
    "\n",
    "    model, metrics = train_model(model, criterion, optimizer, train_loader, val_loader, epochs=10)\n",
    "    plot_metrics(metrics, output_dir)\n",
    "\n",
    "    train_preds, train_labels, train_cm = evaluate_model(model, train_loader, train_conf_matrix_path)\n",
    "    val_preds, val_labels, val_cm = evaluate_model(model, val_loader, val_conf_matrix_path)\n",
    "    test_preds, test_labels, test_cm = evaluate_model(model, test_loader, test_conf_matrix_path)\n",
    "\n",
    "    with open(classification_report_path, \"w\") as f:\n",
    "        train_report = classification_report(train_labels, train_preds, target_names=train_dataset.dataset.classes)\n",
    "        val_report = classification_report(val_labels, val_preds, target_names=train_dataset.dataset.classes)\n",
    "        test_report = classification_report(test_labels, test_preds, target_names=test_dataset.classes)\n",
    "\n",
    "        f.write(\"Classification Report - Training:\\n\")\n",
    "        f.write(train_report + \"\\n\")\n",
    "        f.write(\"\\nClassification Report - Validation:\\n\")\n",
    "        f.write(val_report + \"\\n\")\n",
    "        f.write(\"\\nClassification Report - Testing:\\n\")\n",
    "        f.write(test_report)\n",
    "\n",
    "    torch.save(model.state_dict(), model_save_path)\n",
    "    print(f\"Model and plots saved in {output_dir}\")\n"
   ]
  },
  {
   "cell_type": "code",
   "execution_count": null,
   "id": "aebc01fd-0593-42ef-9f9a-46b667e875c3",
   "metadata": {},
   "outputs": [],
   "source": []
  }
 ],
 "metadata": {
  "kernelspec": {
   "display_name": "Python 3 (ipykernel)",
   "language": "python",
   "name": "python3"
  },
  "language_info": {
   "codemirror_mode": {
    "name": "ipython",
    "version": 3
   },
   "file_extension": ".py",
   "mimetype": "text/x-python",
   "name": "python",
   "nbconvert_exporter": "python",
   "pygments_lexer": "ipython3",
   "version": "3.11.0"
  }
 },
 "nbformat": 4,
 "nbformat_minor": 5
}
