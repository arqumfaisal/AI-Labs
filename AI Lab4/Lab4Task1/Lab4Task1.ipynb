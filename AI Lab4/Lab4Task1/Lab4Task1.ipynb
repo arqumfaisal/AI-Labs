{
 "cells": [
  {
   "cell_type": "code",
   "execution_count": 2,
   "id": "d6284a68-1bdb-410d-8e50-7fbc72065837",
   "metadata": {},
   "outputs": [
    {
     "name": "stdout",
     "output_type": "stream",
     "text": [
      "      Weather Temperature Play\n",
      "0       Sunny         Hot   No\n",
      "1       Sunny         Hot   No\n",
      "2   Overacast         Hot  Yes\n",
      "3       Rainy        Mild  Yes\n",
      "4       Rainy        Cool  Yes\n",
      "5       Rainy        Cool   No\n",
      "6    Overcast        Cool  Yes\n",
      "7       Sunny        Mild   No\n",
      "8       Sunny        Cool  Yes\n",
      "9       Rainy        Mild  Yes\n",
      "10      Sunny        Mild  Yes\n",
      "11   Overcast        Mild  Yes\n",
      "12   Overcast         Hot  Yes\n",
      "13      Rainy        Mild   No\n"
     ]
    }
   ],
   "source": [
    "import pandas as pd\n",
    "data = pd.read_csv('Weathers.csv')\n",
    "print(data)"
   ]
  },
  {
   "cell_type": "code",
   "execution_count": 3,
   "id": "a24368ae-06a6-4c58-97c0-7f4603a6b36d",
   "metadata": {},
   "outputs": [],
   "source": [
    "import pandas as pd\n",
    "from sklearn.naive_bayes import GaussianNB\n",
    "from sklearn.preprocessing import LabelEncoder\n",
    "\n",
    "data = pd.read_csv('Weathers.csv')"
   ]
  },
  {
   "cell_type": "code",
   "execution_count": 6,
   "id": "b456c3e8-7192-49f9-91c0-4247b397380a",
   "metadata": {},
   "outputs": [
    {
     "name": "stdout",
     "output_type": "stream",
     "text": [
      "Prediction for Weather is Overcast and Temperature is Mild: Players can play\n"
     ]
    },
    {
     "name": "stderr",
     "output_type": "stream",
     "text": [
      "C:\\Users\\User\\AppData\\Local\\Programs\\Python\\Python313\\Lib\\site-packages\\sklearn\\base.py:493: UserWarning: X does not have valid feature names, but GaussianNB was fitted with feature names\n",
      "  warnings.warn(\n"
     ]
    }
   ],
   "source": [
    "label_weather = LabelEncoder()\n",
    "label_temperature = LabelEncoder()\n",
    "label_play = LabelEncoder()\n",
    "\n",
    "data['Weather_encoded'] = label_weather.fit_transform(data['Weather'])\n",
    "data['Temperature_encoded'] = label_temperature.fit_transform(data['Temperature'])\n",
    "data['Play_encoded'] = label_play.fit_transform(data['Play'])\n",
    "\n",
    "X = data[['Weather_encoded', 'Temperature_encoded']]\n",
    "y = data['Play_encoded']\n",
    "\n",
    "model = GaussianNB()\n",
    "model.fit(X, y)\n",
    "\n",
    "test_conditions = [[label_weather.transform(['Overcast'])[0], label_temperature.transform(['Mild'])[0]]]\n",
    "\n",
    "prediction = model.predict(test_conditions)\n",
    "result = label_play.inverse_transform(prediction)\n",
    "\n",
    "print(f\"Prediction for Weather is Overcast and Temperature is Mild: {'Players can play' if result[0] == 'Yes' else 'Players cannot play'}\")"
   ]
  },
  {
   "cell_type": "code",
   "execution_count": null,
   "id": "bdf11c26-0fdc-45b9-8d4f-ea4766ae13bf",
   "metadata": {},
   "outputs": [],
   "source": []
  }
 ],
 "metadata": {
  "kernelspec": {
   "display_name": "Python 3 (ipykernel)",
   "language": "python",
   "name": "python3"
  },
  "language_info": {
   "codemirror_mode": {
    "name": "ipython",
    "version": 3
   },
   "file_extension": ".py",
   "mimetype": "text/x-python",
   "name": "python",
   "nbconvert_exporter": "python",
   "pygments_lexer": "ipython3",
   "version": "3.13.0"
  }
 },
 "nbformat": 4,
 "nbformat_minor": 5
}
