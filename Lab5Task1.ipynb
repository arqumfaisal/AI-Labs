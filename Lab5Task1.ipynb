{
 "cells": [
  {
   "cell_type": "code",
   "execution_count": 3,
   "id": "a943f1fc-5813-4aa1-a48f-d3fa8a5b8dc6",
   "metadata": {},
   "outputs": [],
   "source": [
    "import pandas as pd\n",
    "from sklearn.tree import DecisionTreeClassifier\n",
    "from sklearn.preprocessing import LabelEncoder\n",
    "\n",
    "data = pd.read_csv('Task1.csv')"
   ]
  },
  {
   "cell_type": "code",
   "execution_count": 6,
   "id": "a507b0ce-7f3c-4720-b6da-f6c8be6aa7ae",
   "metadata": {},
   "outputs": [
    {
     "name": "stdout",
     "output_type": "stream",
     "text": [
      "Enter details of the new entry:\n"
     ]
    },
    {
     "name": "stdin",
     "output_type": "stream",
     "text": [
      "Height (in feet):  5.83\n",
      "Weight (in pounds):  170\n",
      "Foot Size (shoe size):  10\n"
     ]
    },
    {
     "name": "stdout",
     "output_type": "stream",
     "text": [
      "Predicted Gender: male\n"
     ]
    },
    {
     "name": "stderr",
     "output_type": "stream",
     "text": [
      "C:\\Users\\User\\AppData\\Local\\Programs\\Python\\Python311\\Lib\\site-packages\\sklearn\\base.py:493: UserWarning: X does not have valid feature names, but DecisionTreeClassifier was fitted with feature names\n",
      "  warnings.warn(\n"
     ]
    }
   ],
   "source": [
    "labelencode = LabelEncoder()\n",
    "data['Gender'] = labelencode.fit_transform(data['Gender'])\n",
    "\n",
    "X = data[['Height', 'Weight', 'Foot_Size']]\n",
    "y = data['Gender']\n",
    "\n",
    "model = DecisionTreeClassifier()\n",
    "model.fit(X, y)\n",
    "\n",
    "print(\"Enter details of the new entry:\")\n",
    "height = float(input(\"Height (in feet): \"))\n",
    "weight = int(input(\"Weight (in pounds): \"))\n",
    "foot_size = int(input(\"Foot Size (shoe size): \"))\n",
    "\n",
    "new_data = [[height, weight, foot_size]]\n",
    "prediction = model.predict(new_data)\n",
    "\n",
    "gender_label = labelencode.inverse_transform(prediction)\n",
    "print(f\"Predicted Gender: {gender_label[0]}\")"
   ]
  },
  {
   "cell_type": "code",
   "execution_count": null,
   "id": "df9689d5-a37d-414d-a634-15ed94c743e4",
   "metadata": {},
   "outputs": [],
   "source": []
  }
 ],
 "metadata": {
  "kernelspec": {
   "display_name": "Python 3 (ipykernel)",
   "language": "python",
   "name": "python3"
  },
  "language_info": {
   "codemirror_mode": {
    "name": "ipython",
    "version": 3
   },
   "file_extension": ".py",
   "mimetype": "text/x-python",
   "name": "python",
   "nbconvert_exporter": "python",
   "pygments_lexer": "ipython3",
   "version": "3.11.0"
  }
 },
 "nbformat": 4,
 "nbformat_minor": 5
}
