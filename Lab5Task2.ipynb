{
 "cells": [
  {
   "cell_type": "code",
   "execution_count": 2,
   "id": "abea41c7-d50f-4724-a378-7eaf3a18ee25",
   "metadata": {},
   "outputs": [],
   "source": [
    "import pandas as pd\n",
    "from sklearn.tree import DecisionTreeClassifier\n",
    "from sklearn.preprocessing import LabelEncoder\n",
    "\n",
    "data = pd.read_csv('Task1.csv')"
   ]
  },
  {
   "cell_type": "code",
   "execution_count": 9,
   "id": "c7116480-6d16-434c-b801-87b3f78ee3b2",
   "metadata": {},
   "outputs": [
    {
     "name": "stdout",
     "output_type": "stream",
     "text": [
      "Enter details of the new entry:\n"
     ]
    },
    {
     "name": "stdin",
     "output_type": "stream",
     "text": [
      "Height (in feet):  5.9\n",
      "Weight (in pounds):  169\n",
      "Foot Size (shoe size):  10\n"
     ]
    },
    {
     "name": "stdout",
     "output_type": "stream",
     "text": [
      "Predicted Gender: 1\n",
      "\n",
      "Updated Dataset:\n",
      "    Gender  Height  Weight  Foot_Size\n",
      "0        1    6.00     180         12\n",
      "1        1    5.92     190         11\n",
      "2        1    5.58     170         12\n",
      "3        1    5.92     165         10\n",
      "4        0    5.00     100          6\n",
      "5        0    5.50     150          8\n",
      "6        0    5.42     130          7\n",
      "7        0    5.75     150          9\n",
      "8        1    5.90     169         10\n",
      "9        1    5.90     169         10\n",
      "10       0  169.00       1          1\n",
      "11       1    5.90     169         10\n",
      "\n",
      "The dataset has been .\n"
     ]
    },
    {
     "name": "stderr",
     "output_type": "stream",
     "text": [
      "C:\\Users\\User\\AppData\\Local\\Programs\\Python\\Python311\\Lib\\site-packages\\sklearn\\base.py:493: UserWarning: X does not have valid feature names, but DecisionTreeClassifier was fitted with feature names\n",
      "  warnings.warn(\n"
     ]
    }
   ],
   "source": [
    "# le = LabelEncoder()\n",
    "data['Gender'] = le.fit_transform(data['Gender'])\n",
    "\n",
    "X = data[['Height', 'Weight', 'Foot_Size']]\n",
    "y = data['Gender']\n",
    "\n",
    "model = DecisionTreeClassifier()\n",
    "model.fit(X, y)\n",
    "\n",
    "print(\"Enter details of the new entry:\")\n",
    "height = float(input(\"Height (in feet): \"))\n",
    "weight = int(input(\"Weight (in pounds): \"))\n",
    "foot_size = int(input(\"Foot Size (shoe size): \"))\n",
    "\n",
    "new_data = [[height, weight, foot_size]]\n",
    "prediction = model.predict(new_data)\n",
    "\n",
    "gender_predicted = le.inverse_transform(prediction)\n",
    "print(f\"Predicted Gender: {gender_predicted[0]}\")\n",
    "\n",
    "data = pd.concat([data, pd.DataFrame({\n",
    "                \"Gender\": [prediction [0]],\n",
    "                \"Height\": [height],\n",
    "                \"Weight\": [weight],\n",
    "                \"Foot_Size\": [foot_size]\n",
    "                })], ignore_index=True)\n",
    "\n",
    "print(\"\\nUpdated Dataset:\")\n",
    "print(data)\n",
    "\n",
    "X = data[['Height', 'Weight', 'Foot_Size']]\n",
    "y = data['Gender']\n",
    "\n",
    "model.fit(X, y)\n",
    "print(\"\\nThe dataset has been .\")"
   ]
  },
  {
   "cell_type": "code",
   "execution_count": null,
   "id": "da90d799-4383-4efe-862a-6d8290b8b3f9",
   "metadata": {},
   "outputs": [],
   "source": []
  }
 ],
 "metadata": {
  "kernelspec": {
   "display_name": "Python 3 (ipykernel)",
   "language": "python",
   "name": "python3"
  },
  "language_info": {
   "codemirror_mode": {
    "name": "ipython",
    "version": 3
   },
   "file_extension": ".py",
   "mimetype": "text/x-python",
   "name": "python",
   "nbconvert_exporter": "python",
   "pygments_lexer": "ipython3",
   "version": "3.11.0"
  }
 },
 "nbformat": 4,
 "nbformat_minor": 5
}
