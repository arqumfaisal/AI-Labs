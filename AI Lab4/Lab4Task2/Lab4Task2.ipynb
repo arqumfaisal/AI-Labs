{
 "cells": [
  {
   "cell_type": "code",
   "execution_count": 14,
   "id": "397a2446-077c-4a39-b9db-b2b33f2855e5",
   "metadata": {},
   "outputs": [],
   "source": [
    "import pandas as pd\n",
    "from sklearn.preprocessing import LabelEncoder\n",
    "from sklearn.naive_bayes import GaussianNB\n",
    "from sklearn.metrics import accuracy_score\n",
    "\n",
    "data = pd.read_csv('Info.csv')"
   ]
  },
  {
   "cell_type": "code",
   "execution_count": 15,
   "id": "11fb6ede-7cdc-49de-8c6f-d4c8833b0d19",
   "metadata": {},
   "outputs": [
    {
     "name": "stdout",
     "output_type": "stream",
     "text": [
      "Prediction for Youth - Medium - Yes - Fair -> yes\n",
      "Model Accuracy: 0.9285714285714286\n"
     ]
    }
   ],
   "source": [
    "label_age = LabelEncoder()\n",
    "label_income = LabelEncoder()\n",
    "label_student = LabelEncoder()\n",
    "label_credit = LabelEncoder()\n",
    "label_class = LabelEncoder()\n",
    "\n",
    "data['age'] = label_age.fit_transform(data['age'])\n",
    "data['income'] = label_income.fit_transform(data['income'])\n",
    "data['student'] = label_student.fit_transform(data['student'])\n",
    "data['credit_rating'] = label_credit.fit_transform(data['credit_rating'])\n",
    "data['buys_computer'] = label_class.fit_transform(data['buys_computer'])\n",
    "\n",
    "X = data[['age', 'income', 'student', 'credit_rating']]\n",
    "y = data['buys_computer']\n",
    "\n",
    "model = GaussianNB()\n",
    "model.fit(X, y)\n",
    "\n",
    "y_pred = model.predict(X)\n",
    "accuracy = accuracy_score(y, y_pred)\n",
    "\n",
    "test_conditions = pd.DataFrame([[\n",
    "    label_age.fit_transform(['youth'])[0],\n",
    "    label_income.fit_transform(['medium'])[0],\n",
    "    label_student.fit_transform(['yes'])[0],\n",
    "    label_credit.fit_transform(['fair'])[0]\n",
    "]], columns=['age', 'income', 'student', 'credit_rating'])\n",
    "\n",
    "prediction = model.predict(test_conditions)\n",
    "\n",
    "result = label_class.inverse_transform(prediction)\n",
    "\n",
    "print(\"Prediction for Youth - Medium - Yes - Fair ->\", result[0])\n",
    "print(\"Model Accuracy:\", accuracy)"
   ]
  },
  {
   "cell_type": "code",
   "execution_count": null,
   "id": "32d8f5ce-b07a-48b8-a1fc-8c884fea13b8",
   "metadata": {},
   "outputs": [],
   "source": []
  }
 ],
 "metadata": {
  "kernelspec": {
   "display_name": "Python 3 (ipykernel)",
   "language": "python",
   "name": "python3"
  },
  "language_info": {
   "codemirror_mode": {
    "name": "ipython",
    "version": 3
   },
   "file_extension": ".py",
   "mimetype": "text/x-python",
   "name": "python",
   "nbconvert_exporter": "python",
   "pygments_lexer": "ipython3",
   "version": "3.13.0"
  }
 },
 "nbformat": 4,
 "nbformat_minor": 5
}
