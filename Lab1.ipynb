{
 "cells": [
  {
   "cell_type": "code",
   "execution_count": 1,
   "id": "cdd1a84d-eb76-468c-ba24-1a1074c5bd48",
   "metadata": {},
   "outputs": [
    {
     "name": "stdin",
     "output_type": "stream",
     "text": [
      "Enter a number: 1\n"
     ]
    },
    {
     "name": "stdout",
     "output_type": "stream",
     "text": [
      "1\n",
      "4\n",
      "8\n",
      "4\n",
      "7\n"
     ]
    }
   ],
   "source": [
    "a= int(input (\"Enter a number:\"))\n",
    "b = a + 3\n",
    "c = b * 2\n",
    "d = c - 4\n",
    "e = d + 3\n",
    "print (a)\n",
    "print (b)\n",
    "print (c)\n",
    "print (d)\n",
    "print (e)"
   ]
  },
  {
   "cell_type": "code",
   "execution_count": 1,
   "id": "e90a5b3e-43d8-452a-9701-6866f1b07f52",
   "metadata": {
    "scrolled": true
   },
   "outputs": [
    {
     "name": "stdin",
     "output_type": "stream",
     "text": [
      "Enter temperature in Celsius: 33.5\n"
     ]
    },
    {
     "name": "stdout",
     "output_type": "stream",
     "text": [
      "Temperature from Celsius to Fahrenheit is: 92.30000000000001\n"
     ]
    }
   ],
   "source": [
    "temperature = float(input(\"Enter temperature in Celsius:\"))\n",
    "Fahrenheit = (temperature * 1.8) + 32\n",
    "print (\"Temperature from Celsius to Fahrenheit is:\", Fahrenheit)"
   ]
  },
  {
   "cell_type": "code",
   "execution_count": 2,
   "id": "c47820e5-97a4-44cb-b56f-0d283759b3f3",
   "metadata": {},
   "outputs": [
    {
     "name": "stdin",
     "output_type": "stream",
     "text": [
      "Enter the radius: 7.2\n"
     ]
    },
    {
     "name": "stdout",
     "output_type": "stream",
     "text": [
      "The Area of the circle is:  162.88128\n"
     ]
    }
   ],
   "source": [
    "radius = float(input(\"Enter the radius:\"))\n",
    "Area = 3.142 * (radius*radius)\n",
    "print (\"The Area of the circle is: \", Area)"
   ]
  },
  {
   "cell_type": "code",
   "execution_count": 9,
   "id": "2662bf51-6128-4b12-858b-692be1ec126c",
   "metadata": {},
   "outputs": [
    {
     "name": "stdin",
     "output_type": "stream",
     "text": [
      "Enter your favorite color:  blue\n"
     ]
    },
    {
     "name": "stdout",
     "output_type": "stream",
     "text": [
      "blueblueblueblueblueblueblueblue\n",
      "blue                        blue\n",
      "blueblueblueblueblueblueblueblue\n"
     ]
    }
   ],
   "source": [
    "col = str(input(\"Enter your favorite color: \"))\n",
    "print (col * 8)\n",
    "print (col + \"                        \" + col)\n",
    "print (col * 8)"
   ]
  },
  {
   "cell_type": "code",
   "execution_count": 13,
   "id": "a97f38c3-55d3-4476-a81c-d0ad51ab109c",
   "metadata": {},
   "outputs": [
    {
     "name": "stdout",
     "output_type": "stream",
     "text": [
      "Name with whitespace characters:\n",
      "\t\n",
      "  Arqum Faisal  \n",
      "\t\n",
      "\n",
      "Name after lstrip:\n",
      "Arqum Faisal  \n",
      "\t\n",
      "\n",
      "Name after rstrip:\n",
      "\t\n",
      "  Arqum Faisal\n",
      "\n",
      "Name after strip:\n",
      "Arqum Faisal\n"
     ]
    }
   ],
   "source": [
    "name = \"\\t\\n  Arqum Faisal  \\n\\t\"\n",
    "print(\"Name with whitespace characters:\")\n",
    "print(name)\n",
    "\n",
    "print(\"\\nName after lstrip:\")\n",
    "print(name.lstrip())\n",
    "\n",
    "print(\"\\nName after rstrip:\")\n",
    "print(name.rstrip())\n",
    "\n",
    "print(\"\\nName after strip:\")\n",
    "print(name.strip())"
   ]
  },
  {
   "cell_type": "code",
   "execution_count": 15,
   "id": "7e4e58cc-3d6f-4759-b1e9-9917420cb2ea",
   "metadata": {},
   "outputs": [
    {
     "name": "stdin",
     "output_type": "stream",
     "text": [
      "Enter a number to create its multiplication table:  15\n"
     ]
    },
    {
     "name": "stdout",
     "output_type": "stream",
     "text": [
      "Multiplication table of 15:\n",
      "15 x 1 = 15\n",
      "15 x 2 = 30\n",
      "15 x 3 = 45\n",
      "15 x 4 = 60\n",
      "15 x 5 = 75\n",
      "15 x 6 = 90\n",
      "15 x 7 = 105\n",
      "15 x 8 = 120\n",
      "15 x 9 = 135\n",
      "15 x 10 = 150\n"
     ]
    }
   ],
   "source": [
    "number = int(input(\"Enter a number to create its multiplication table: \"))\n",
    "print(f\"Multiplication table of {number}:\")\n",
    "for i in range(1, 11):\n",
    "    result = number * i\n",
    "    print(f\"{number} x {i} = {result}\")\n"
   ]
  },
  {
   "cell_type": "code",
   "execution_count": 16,
   "id": "40e5cfd0-913d-4486-9830-7b491cc66c0d",
   "metadata": {},
   "outputs": [
    {
     "name": "stdout",
     "output_type": "stream",
     "text": [
      "Melbourne is in Australia.\n",
      "Sydney is in Australia.\n",
      "Jakarta is in Indonesia.\n"
     ]
    }
   ],
   "source": [
    "def describe_city(city, country=\"Australia\"):\n",
    "    print(f\"{city} is in {country}.\")\n",
    "describe_city(\"Melbourne\")  \n",
    "describe_city(\"Sydney\")    \n",
    "describe_city(\"Jakarta\", \"Indonesia\")  \n"
   ]
  },
  {
   "cell_type": "code",
   "execution_count": 17,
   "id": "4bd9188f-06d1-4319-bcea-e511970e8e4b",
   "metadata": {},
   "outputs": [
    {
     "name": "stdout",
     "output_type": "stream",
     "text": [
      "5\n",
      "10\n"
     ]
    }
   ],
   "source": [
    "def absolute_num(number):\n",
    "    if number < 0:\n",
    "        return -number  \n",
    "    else:\n",
    "        return number  \n",
    "print(absolute_num(5))  \n",
    "print(absolute_num(-10))  "
   ]
  },
  {
   "cell_type": "code",
   "execution_count": 21,
   "id": "3bd4e905-ab2c-4e89-b88e-ede2c6c60662",
   "metadata": {},
   "outputs": [
    {
     "name": "stdin",
     "output_type": "stream",
     "text": [
      "Enter an alphabet : b\n"
     ]
    },
    {
     "name": "stdout",
     "output_type": "stream",
     "text": [
      "(alphabet) is a consonant\n"
     ]
    }
   ],
   "source": [
    "alphabet = input(\"Enter an alphabet :\").lower()\n",
    "if alphabet in \"aeiou\":\n",
    "    print (f\"(alphabet) is a vowel\")\n",
    "else:\n",
    "    print (f\"(alphabet) is a consonant\")"
   ]
  },
  {
   "cell_type": "code",
   "execution_count": 22,
   "id": "98af659b-c868-4c24-8fb4-41613e77e70e",
   "metadata": {},
   "outputs": [
    {
     "name": "stdin",
     "output_type": "stream",
     "text": [
      "Enter a number:  5\n"
     ]
    },
    {
     "name": "stdout",
     "output_type": "stream",
     "text": [
      " (number) is a prime number.\n"
     ]
    }
   ],
   "source": [
    "number = int(input(\"Enter a number: \"))\n",
    "if number > 1:\n",
    "    for i in range(2, number):\n",
    "        if number% i == 0:\n",
    "            print(f\"[number is not a prime number.\")\n",
    "            break\n",
    "    else:\n",
    "        print(f\" (number) is a prime number.\")\n",
    "else:\n",
    "    print(f\"(number) is not a prime number.\")"
   ]
  },
  {
   "cell_type": "code",
   "execution_count": 24,
   "id": "3d8c3c3e-d3eb-4f7d-87e3-3dcf7970a313",
   "metadata": {},
   "outputs": [
    {
     "name": "stdout",
     "output_type": "stream",
     "text": [
      "0\n",
      "1\n",
      "2\n",
      "4\n",
      "5\n"
     ]
    }
   ],
   "source": [
    "for i in range (7):\n",
    "    if i == 3 or i == 6:\n",
    "        continue\n",
    "    print (i)"
   ]
  },
  {
   "cell_type": "code",
   "execution_count": 26,
   "id": "d3f37070-3da8-490b-a89a-c05a206f0465",
   "metadata": {},
   "outputs": [
    {
     "name": "stdout",
     "output_type": "stream",
     "text": [
      "1 \n",
      "2 2 \n",
      "3 3 3 \n",
      "4 4 4 4 \n",
      "5 5 5 5 5 \n"
     ]
    }
   ],
   "source": [
    "for i in range(1, 6):\n",
    "    for j in range(i):\n",
    "        print(i, end=\" \")\n",
    "    print()"
   ]
  },
  {
   "cell_type": "code",
   "execution_count": 27,
   "id": "4591cc3a-4ff2-4750-ba63-6f6286992cca",
   "metadata": {},
   "outputs": [
    {
     "name": "stdin",
     "output_type": "stream",
     "text": [
      "Enter your age:  23\n"
     ]
    },
    {
     "name": "stdout",
     "output_type": "stream",
     "text": [
      "The person is an adult.\n"
     ]
    }
   ],
   "source": [
    "age = int (input(\"Enter your age: \"))\n",
    "if age < 2:\n",
    "    print(\"The person is a baby.\")\n",
    "elif age >= 4 and age < 13:\n",
    "    print(\"The person is a kid.\")\n",
    "elif age >= 13 and age < 20:\n",
    "    print(\"The person is a teenager.\")\n",
    "elif age >= 20 and age < 65:\n",
    "    print(\"The person is an adult.\")\n",
    "else:  \n",
    "    print(\"The person is an elder.\")"
   ]
  },
  {
   "cell_type": "code",
   "execution_count": null,
   "id": "e0b79053-c699-4658-93a2-d4e889426594",
   "metadata": {},
   "outputs": [],
   "source": []
  }
 ],
 "metadata": {
  "kernelspec": {
   "display_name": "Python 3 (ipykernel)",
   "language": "python",
   "name": "python3"
  },
  "language_info": {
   "codemirror_mode": {
    "name": "ipython",
    "version": 3
   },
   "file_extension": ".py",
   "mimetype": "text/x-python",
   "name": "python",
   "nbconvert_exporter": "python",
   "pygments_lexer": "ipython3",
   "version": "3.13.0"
  }
 },
 "nbformat": 4,
 "nbformat_minor": 5
}
