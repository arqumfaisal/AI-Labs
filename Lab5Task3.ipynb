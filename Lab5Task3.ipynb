{
 "cells": [
  {
   "cell_type": "code",
   "execution_count": 2,
   "id": "d4a61cb0-98d7-4d16-b848-24e362a6ff62",
   "metadata": {},
   "outputs": [
    {
     "name": "stdout",
     "output_type": "stream",
     "text": [
      "Enter details of the new data:\n"
     ]
    },
    {
     "name": "stdin",
     "output_type": "stream",
     "text": [
      "Height (in feet):  5.9\n",
      "Weight (in pounds):  160\n",
      "Foot Size (shoe size):  8\n"
     ]
    },
    {
     "name": "stdout",
     "output_type": "stream",
     "text": [
      "Predicted Gender: female\n",
      "\n",
      "Updated Dataset:\n",
      "['male' '6.0' '180' '12']\n",
      "['male' '5.92' '190' '11']\n",
      "['male' '5.58' '170' '12']\n",
      "['male' '5.92' '165' '10']\n",
      "['female' '5.0' '100' '6']\n",
      "['female' '5.5' '150' '8']\n",
      "['female' '5.42' '130' '7']\n",
      "['female' '5.75' '150' '9']\n",
      "['female' '5.9' '160' '8']\n"
     ]
    }
   ],
   "source": [
    "import numpy as np\n",
    "from sklearn.tree import DecisionTreeClassifier\n",
    "from sklearn.preprocessing import LabelEncoder\n",
    "\n",
    "data = np.array([\n",
    "    [\"male\", 6.00, 180, 12],\n",
    "    [\"male\", 5.92, 190, 11],\n",
    "    [\"male\", 5.58, 170, 12],\n",
    "    [\"male\", 5.92, 165, 10],\n",
    "    [\"female\", 5.00, 100, 6],\n",
    "    [\"female\", 5.50, 150, 8],\n",
    "    [\"female\", 5.42, 130, 7],\n",
    "    [\"female\", 5.75, 150, 9],\n",
    "])\n",
    "\n",
    "labelencode = LabelEncoder()\n",
    "gender_encoded = labelencode.fit_transform(data[:, 0])  \n",
    "\n",
    "X = data[:, 1:].astype(float)  \n",
    "y = gender_encoded             \n",
    "\n",
    "model = DecisionTreeClassifier()\n",
    "model.fit(X, y)\n",
    "\n",
    "print(\"Enter details of the new data:\")\n",
    "height = float(input(\"Height (in feet): \"))\n",
    "weight = int(input(\"Weight (in pounds): \"))\n",
    "foot_size = int(input(\"Foot Size (shoe size): \"))\n",
    "\n",
    "new_data = np.array([[height, weight, foot_size]])\n",
    "prediction = model.predict(new_data)\n",
    "\n",
    "gender_label = labelencode.inverse_transform(prediction)\n",
    "print(f\"Predicted Gender: {gender_label[0]}\")\n",
    "\n",
    "new_row = np.array([[gender_label[0], height, weight, foot_size]])\n",
    "data = np.vstack([data, new_row])\n",
    "\n",
    "print(\"\\nUpdated Dataset:\")\n",
    "for row in data:\n",
    "    print(row)"
   ]
  },
  {
   "cell_type": "code",
   "execution_count": null,
   "id": "469052a8-8463-4315-a14e-e7c71c9681af",
   "metadata": {},
   "outputs": [],
   "source": []
  }
 ],
 "metadata": {
  "kernelspec": {
   "display_name": "Python 3 (ipykernel)",
   "language": "python",
   "name": "python3"
  },
  "language_info": {
   "codemirror_mode": {
    "name": "ipython",
    "version": 3
   },
   "file_extension": ".py",
   "mimetype": "text/x-python",
   "name": "python",
   "nbconvert_exporter": "python",
   "pygments_lexer": "ipython3",
   "version": "3.11.0"
  }
 },
 "nbformat": 4,
 "nbformat_minor": 5
}
