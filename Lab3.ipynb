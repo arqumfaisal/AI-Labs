{
 "cells": [
  {
   "cell_type": "code",
   "execution_count": 4,
   "id": "55ffd6bf-b9bc-496d-90fc-e02b35dd40af",
   "metadata": {},
   "outputs": [
    {
     "name": "stdout",
     "output_type": "stream",
     "text": [
      "      Weather Temperature Play\n",
      "0       Sunny         Hot   No\n",
      "1       Sunny         Hot   No\n",
      "2   Overacast         Hot  Yes\n",
      "3       Rainy        Mild  Yes\n",
      "4       Rainy        Cool  Yes\n",
      "5       Rainy        Cool   No\n",
      "6    Overcast        Cool  Yes\n",
      "7       Sunny        Mild   No\n",
      "8       Sunny        Cool  Yes\n",
      "9       Rainy        Mild  Yes\n",
      "10      Sunny        Mild  Yes\n",
      "11   Overcast        Mild  Yes\n",
      "12   Overcast         Hot  Yes\n",
      "13      Rainy        Mild   No\n"
     ]
    }
   ],
   "source": [
    "import pandas as pd\n",
    "import numpy as np\n",
    "from sklearn.preprocessing import LabelEncoder\n",
    "from sklearn.neighbors import KNeighborsClassifier\n",
    "\n",
    "data = pd.read_csv('Weathers.csv')\n",
    "print(data)"
   ]
  },
  {
   "cell_type": "code",
   "execution_count": 14,
   "id": "5e73df10-f87b-483c-a6e5-e689474709e8",
   "metadata": {},
   "outputs": [],
   "source": [
    "import pandas as pd\n",
    "import numpy as np\n",
    "from sklearn.preprocessing import LabelEncoder\n",
    "from sklearn.neighbors import KNeighborsClassifier\n",
    "\n",
    "data = pd.read_csv('Weathers.csv')"
   ]
  },
  {
   "cell_type": "code",
   "execution_count": 15,
   "id": "ecec7547-ea5b-434b-9a1a-f38e84508743",
   "metadata": {},
   "outputs": [
    {
     "name": "stderr",
     "output_type": "stream",
     "text": [
      "C:\\Users\\User\\AppData\\Local\\Programs\\Python\\Python313\\Lib\\site-packages\\sklearn\\base.py:493: UserWarning: X does not have valid feature names, but KNeighborsClassifier was fitted with feature names\n",
      "  warnings.warn(\n"
     ]
    }
   ],
   "source": [
    "le_weather = LabelEncoder()\n",
    "le_temp = LabelEncoder()\n",
    "le_play = LabelEncoder()\n",
    "\n",
    "data['Weather_encoded'] = le_weather.fit_transform(data['Weather'])\n",
    "data['Temperature_encoded'] = le_temp.fit_transform(data['Temperature'])\n",
    "data['Play_encoded'] = le_play.fit_transform(data['Play'])\n",
    "\n",
    "X = data[['Weather_encoded', 'Temperature_encoded']]\n",
    "y = data['Play_encoded']\n",
    "\n",
    "k = 3\n",
    "knn = KNeighborsClassifier(n_neighbors=k)\n",
    "knn.fit(X, y)\n",
    "\n",
    "test_conditions = [[le_weather.transform(['Overcast'])[0], le_temp.transform(['Mild'])[0]]]\n",
    "\n",
    "prediction = knn.predict(test_conditions)\n",
    "result = le_play.inverse_transform(prediction)\n"
   ]
  },
  {
   "cell_type": "code",
   "execution_count": 25,
   "id": "7be43e8e-0feb-4c4c-8490-20371482f054",
   "metadata": {},
   "outputs": [
    {
     "name": "stdout",
     "output_type": "stream",
     "text": [
      "Prediction for Weather is Overcast and Temperature is Mild: Players can play\n"
     ]
    }
   ],
   "source": [
    "print(f\"Prediction for Weather is Overcast and Temperature is Mild: {'Players can play' if result[0] == 'Yes' else 'Players cannot play'}\")"
   ]
  },
  {
   "cell_type": "code",
   "execution_count": 19,
   "id": "78148635-0044-441e-8b6c-7149eabe5cdd",
   "metadata": {},
   "outputs": [],
   "source": [
    "import numpy as np\n",
    "import pandas as pd\n",
    "from collections import Counter\n",
    "\n",
    "data = pd.read_csv('Labo.csv')"
   ]
  },
  {
   "cell_type": "code",
   "execution_count": 20,
   "id": "f7db9bbe-7252-4ed4-b459-83432ebfd100",
   "metadata": {},
   "outputs": [],
   "source": [
    "test_instance = np.array([3, 7])\n",
    "\n",
    "def euclidean_distance(p1, p2):\n",
    "    return np.sqrt(np.sum((p1 - p2) ** 2))\n",
    "\n",
    "data['Distance'] = data.apply(lambda row: euclidean_distance(test_instance, np.array([row['X1'], row['X2']])), axis=1)\n",
    "\n",
    "data_sorted = data.sort_values(by='Distance')\n",
    "nearest_neighbors = data_sorted.head(3)\n",
    "\n",
    "majority_class = Counter(nearest_neighbors['Y']).most_common(1)[0][0]\n"
   ]
  },
  {
   "cell_type": "code",
   "execution_count": 31,
   "id": "daf5582b-0f20-4f34-9945-90660611cf37",
   "metadata": {},
   "outputs": [
    {
     "name": "stdout",
     "output_type": "stream",
     "text": [
      "The predicted classification for the test instance is: Good\n"
     ]
    }
   ],
   "source": [
    "print(f\"The predicted classification for the test instance is: {majority_class}\")"
   ]
  },
  {
   "cell_type": "code",
   "execution_count": null,
   "id": "632324e1-fc16-44d6-97b4-68e735124162",
   "metadata": {},
   "outputs": [],
   "source": []
  }
 ],
 "metadata": {
  "kernelspec": {
   "display_name": "Python 3 (ipykernel)",
   "language": "python",
   "name": "python3"
  },
  "language_info": {
   "codemirror_mode": {
    "name": "ipython",
    "version": 3
   },
   "file_extension": ".py",
   "mimetype": "text/x-python",
   "name": "python",
   "nbconvert_exporter": "python",
   "pygments_lexer": "ipython3",
   "version": "3.13.0"
  }
 },
 "nbformat": 4,
 "nbformat_minor": 5
}
